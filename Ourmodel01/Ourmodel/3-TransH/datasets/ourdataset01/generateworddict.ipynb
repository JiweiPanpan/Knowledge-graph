{
 "cells": [
  {
   "cell_type": "code",
   "execution_count": null,
   "metadata": {
    "collapsed": true
   },
   "outputs": [],
   "source": [
    "'''\n",
    "generate word dictionary and respective index\n",
    "form: {'word': index , ...}\n",
    "step: 1. combine train, test valid text together\n",
    "      2. check and split to words from each entity and relation\n",
    "      3. traverse each word, distribute with unique index\n",
    "      4. save word dictionary\n",
    "'''\n",
    "\n",
    "import pickle as pkl\n",
    "\n",
    "word_dict = {}\n",
    "\n",
    "\n",
    "# load train\n",
    "with open(\"dataset/train.txt\", \"r\", encoding='utf-8') as f:\n",
    "    file1_content = f.read()\n",
    "\n",
    "# load test\n",
    "with open(\"dataset/test.txt\", \"r\", encoding='utf-8') as f:\n",
    "    file2_content = f.read()\n",
    "\n",
    "# load valid\n",
    "with open(\"dataset/valid.txt\", \"r\", encoding='utf-8') as f:\n",
    "    file3_content = f.read()\n",
    "\n",
    "# combine three files for further traversing\n",
    "merged_content = file1_content + \"\\n\" + file2_content + \"\\n\" + file3_content\n",
    "\n",
    "# save combined tripes to file\n",
    "with open(\"all.txt\", \"w\", encoding='utf-8') as f:\n",
    "    f.write(merged_content)\n",
    "\n",
    "with open('all.txt', \"r\", encoding=\"utf-8\") as file:\n",
    "    # traverse text file\n",
    "    for line in file:\n",
    "        line = line.strip()\n",
    "        triple = line.split(\"\\t\")  # split to triples with \\t\n",
    "\n",
    "        # check if each line really has three elements\n",
    "        if len(triple) == 3:\n",
    "            subject, predicate, obj = triple\n",
    "\n",
    "            # split to words\n",
    "            subject_words = subject.split()\n",
    "            predicate_words = predicate.split()\n",
    "            object_words = obj.split()\n",
    "\n",
    "            # add to dict\n",
    "            for word in subject_words + predicate_words + object_words:\n",
    "                if word not in word_dict:\n",
    "                    word_dict[word] = len(word_dict)\n",
    "\n",
    "# save word dictionary\n",
    "dict_file = \"word.dict\"\n",
    "with open(dict_file, \"wb\") as file:\n",
    "    pkl.dump(word_dict, file)"
   ]
  }
 ],
 "metadata": {
  "kernelspec": {
   "display_name": "Python 3",
   "language": "python",
   "name": "python3"
  },
  "language_info": {
   "codemirror_mode": {
    "name": "ipython",
    "version": 2
   },
   "file_extension": ".py",
   "mimetype": "text/x-python",
   "name": "python",
   "nbconvert_exporter": "python",
   "pygments_lexer": "ipython2",
   "version": "2.7.6"
  }
 },
 "nbformat": 4,
 "nbformat_minor": 0
}
